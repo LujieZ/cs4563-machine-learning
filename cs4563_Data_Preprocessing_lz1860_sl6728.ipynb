{
 "cells": [
  {
   "cell_type": "markdown",
   "id": "placed-eleven",
   "metadata": {},
   "source": [
    "# Final Project Data Preprocessing - Intro to Machine Learning\n",
    "CS-UY 4563 <br>\n",
    "Spring 2021 <br>\n",
    "Lujie Zhao, Sicong Liu <br>\n",
    "April 28, 2021 <br>"
   ]
  },
  {
   "cell_type": "markdown",
   "id": "beginning-slovenia",
   "metadata": {},
   "source": [
    "This project is to predict whether the job candidate will be willing to work for the\n",
    "company after training, or they plan to go to another company. The Github Repo can be found [here](https://github.com/LujieZ/cs4563-machine-learning)."
   ]
  },
  {
   "cell_type": "code",
   "execution_count": 23,
   "id": "average-alignment",
   "metadata": {},
   "outputs": [],
   "source": [
    "import numpy as np\n",
    "import pandas as pd\n",
    "from sklearn.preprocessing import LabelEncoder\n",
    "from sklearn.impute import KNNImputer\n",
    "import matplotlib.pyplot as plt\n",
    "%matplotlib inline "
   ]
  },
  {
   "cell_type": "markdown",
   "id": "conscious-addition",
   "metadata": {},
   "source": [
    "# Import Dataset\n",
    "\n",
    "The dataset we are using is from [this kaggle website](https://www.kaggle.com/arashnic/hr-analytics-job-change-of-data-scientists), which includes 13 inputs (12 being valid) and one target (1 for looking for a job change and 0 for not looking for job change). We will use `aug_train.csv` for training and testing. \n"
   ]
  },
  {
   "cell_type": "code",
   "execution_count": 2,
   "id": "intense-guarantee",
   "metadata": {},
   "outputs": [
    {
     "name": "stdout",
     "output_type": "stream",
     "text": [
      "(19158, 14)\n",
      "['enrollee_id' 'city' 'city_development_index' 'gender'\n",
      " 'relevent_experience' 'enrolled_university' 'education_level'\n",
      " 'major_discipline' 'experience' 'company_size' 'company_type'\n",
      " 'last_new_job' 'training_hours' 'target']\n"
     ]
    }
   ],
   "source": [
    "# 1. Read the file into a pandas data frame and print the headers.\n",
    "df = pd.read_csv(\"aug_train.csv\")\n",
    "# Encoding city feature using label encoder.\n",
    "le = LabelEncoder()\n",
    "df.loc[:,'city'] = le.fit_transform(df.loc[:,'city']) \n",
    "print(df.shape)\n",
    "df_header = df.columns.values\n",
    "print(df_header)"
   ]
  },
  {
   "cell_type": "code",
   "execution_count": 3,
   "id": "ideal-personal",
   "metadata": {},
   "outputs": [
    {
     "name": "stdout",
     "output_type": "stream",
     "text": [
      "   enrollee_id  city  city_development_index gender      relevent_experience  \\\n",
      "0         8949     5                   0.920   Male  Has relevent experience   \n",
      "1        29725    77                   0.776   Male   No relevent experience   \n",
      "2        11561    64                   0.624    NaN   No relevent experience   \n",
      "3        33241    14                   0.789    NaN   No relevent experience   \n",
      "4          666    50                   0.767   Male  Has relevent experience   \n",
      "\n",
      "  enrolled_university education_level major_discipline experience  \\\n",
      "0       no_enrollment        Graduate             STEM        >20   \n",
      "1       no_enrollment        Graduate             STEM         15   \n",
      "2    Full time course        Graduate             STEM          5   \n",
      "3                 NaN        Graduate  Business Degree         <1   \n",
      "4       no_enrollment         Masters             STEM        >20   \n",
      "\n",
      "  company_size    company_type last_new_job  training_hours  target  \n",
      "0          NaN             NaN            1              36     1.0  \n",
      "1        50-99         Pvt Ltd           >4              47     0.0  \n",
      "2          NaN             NaN        never              83     0.0  \n",
      "3          NaN         Pvt Ltd        never              52     1.0  \n",
      "4        50-99  Funded Startup            4               8     0.0  \n",
      "<class 'pandas.core.frame.DataFrame'>\n",
      "RangeIndex: 19158 entries, 0 to 19157\n",
      "Data columns (total 14 columns):\n",
      " #   Column                  Non-Null Count  Dtype  \n",
      "---  ------                  --------------  -----  \n",
      " 0   enrollee_id             19158 non-null  int64  \n",
      " 1   city                    19158 non-null  int64  \n",
      " 2   city_development_index  19158 non-null  float64\n",
      " 3   gender                  14650 non-null  object \n",
      " 4   relevent_experience     19158 non-null  object \n",
      " 5   enrolled_university     18772 non-null  object \n",
      " 6   education_level         18698 non-null  object \n",
      " 7   major_discipline        16345 non-null  object \n",
      " 8   experience              19093 non-null  object \n",
      " 9   company_size            13220 non-null  object \n",
      " 10  company_type            13018 non-null  object \n",
      " 11  last_new_job            18735 non-null  object \n",
      " 12  training_hours          19158 non-null  int64  \n",
      " 13  target                  19158 non-null  float64\n",
      "dtypes: float64(2), int64(3), object(9)\n",
      "memory usage: 2.0+ MB\n",
      "None\n"
     ]
    }
   ],
   "source": [
    "print(df.head())\n",
    "print(df.info())"
   ]
  },
  {
   "cell_type": "code",
   "execution_count": 4,
   "id": "banner-butter",
   "metadata": {},
   "outputs": [
    {
     "name": "stdout",
     "output_type": "stream",
     "text": [
      "['STEM' 'Business Degree' 'Not Applied' 'Arts' 'Humanities' 'No Major'\n",
      " 'Other']\n",
      "[nan '50-99' '<10' '10000+' '5000-9999' '1000-4999' '10-49' '100-500'\n",
      " '500-999']\n",
      "['21' '15' '5' '0' '11' '13' '7' '17' '2' '16' '1' '4' '10' '14' '18' '19'\n",
      " '12' '3' '6' '9' '8' '20' nan]\n",
      "['1' '5' '0' '4' '3' '2' nan]\n"
     ]
    }
   ],
   "source": [
    "# 2. Add another group to `major_discipline`\n",
    "# Because we have some enrolleees with high school or lower degrees, they are self-educated\n",
    "# and majors appearly don't apply to them.\n",
    "df[\"major_discipline\"] = df[\"major_discipline\"].fillna(\"Not Applied\")\n",
    "\n",
    "# There's also typos in the `company_size` columns, and we need to replace `10/49` with\n",
    "# `10-49`.\n",
    "df[\"company_size\"] = df[\"company_size\"].replace(\"10/49\",\"10-49\")\n",
    "\n",
    "# For columns experience and last_new_job, we can see there are approximated data for\n",
    "# experience more than 20 years and last new jobs more then 4 years. As they are values to\n",
    "# be determine, we will approximate them with 21 years and 5 years.\n",
    "df[\"experience\"] = df[\"experience\"].replace([\">20\",\"<1\"],[\"21\",\"0\"])\n",
    "df[\"last_new_job\"] = df[\"last_new_job\"].replace([\">4\",\"never\"],[\"5\",\"0\"])\n",
    "\n",
    "print(df[\"major_discipline\"].unique())\n",
    "print(df[\"company_size\"].unique())\n",
    "print(df[\"experience\"].unique())\n",
    "print(df[\"last_new_job\"].unique())"
   ]
  },
  {
   "cell_type": "code",
   "execution_count": 5,
   "id": "behind-battlefield",
   "metadata": {
    "scrolled": true
   },
   "outputs": [
    {
     "name": "stdout",
     "output_type": "stream",
     "text": [
      "[  5  77  64  14  50  57  49  83  91  13  26  47   4  95   2  48  99   6\n",
      "  93   3 112   7 101 103  78  11 118 116  74  63  89  43  61  94 102  55\n",
      "  30 121 120  85  31 111  45 114  42  98  56 119  70  90  51  39  36  68\n",
      "  18  75  80  15  65 122  41   1  82 109  24  46  21  97 100   8  37 106\n",
      "  10  66  29  84  38 117  40  28  22  17 115  53  69 113  87  76 107 104\n",
      " 105 110  27  81  16  44  73  35  23  92  86  67  62  96  19  12  71   0\n",
      "  34  58  88  33  79   9  59  32  60  52  20  25 108  72  54]\n",
      "['Male' nan 'Female' 'Other']\n",
      "['Has relevent experience' 'No relevent experience']\n",
      "['no_enrollment' 'Full time course' nan 'Part time course']\n",
      "['Graduate' 'Masters' 'High School' nan 'Phd' 'Primary School']\n",
      "['STEM' 'Business Degree' 'Not Applied' 'Arts' 'Humanities' 'No Major'\n",
      " 'Other']\n",
      "[nan '50-99' '<10' '10000+' '5000-9999' '1000-4999' '10-49' '100-500'\n",
      " '500-999']\n",
      "[nan 'Pvt Ltd' 'Funded Startup' 'Early Stage Startup' 'Other'\n",
      " 'Public Sector' 'NGO']\n"
     ]
    }
   ],
   "source": [
    "# 3. Print unique values for each column.\n",
    "# Since `entrollee_id` are identifiers for enrollees, it are not considered as a valid\n",
    "# input. And for rest of the columns, `city`, `gender`, `relevent_experience`,\n",
    "# `enrolled_university`, `education_level`, `major_discipline`, `company_size`,\n",
    "# `company_type` have categorical values. Thus they need to be classified.\n",
    "print(df[\"city\"].unique())\n",
    "print(df[\"gender\"].unique())\n",
    "print(df[\"relevent_experience\"].unique())\n",
    "print(df[\"enrolled_university\"].unique())\n",
    "print(df[\"education_level\"].unique())\n",
    "print(df[\"major_discipline\"].unique())\n",
    "print(df[\"company_size\"].unique())\n",
    "print(df[\"company_type\"].unique())"
   ]
  },
  {
   "cell_type": "markdown",
   "id": "military-summary",
   "metadata": {},
   "source": [
    "# Data Classification\n",
    "Replace the text value with preset parameters. "
   ]
  },
  {
   "cell_type": "code",
   "execution_count": 6,
   "id": "incoming-mayor",
   "metadata": {},
   "outputs": [
    {
     "name": "stdout",
     "output_type": "stream",
     "text": [
      "[ 1. nan  0.  2.]\n"
     ]
    }
   ],
   "source": [
    "# 4. Replace different gender text with numbers.\n",
    "# 0 - Female\n",
    "# 1 - Male\n",
    "# 2 - Other\n",
    "df[\"gender\"] = df[\"gender\"].replace([\"Female\",\"Male\",\"Other\"], [0,1,2])\n",
    "print(df[\"gender\"].unique())"
   ]
  },
  {
   "cell_type": "code",
   "execution_count": 7,
   "id": "hired-absence",
   "metadata": {},
   "outputs": [
    {
     "name": "stdout",
     "output_type": "stream",
     "text": [
      "[1 0]\n"
     ]
    }
   ],
   "source": [
    "# 5. Replace relevent experience text with numbers.\n",
    "# 0 - No relevent experience\n",
    "# 1 - Has relevent experience\n",
    "df[\"relevent_experience\"] = df[\"relevent_experience\"].replace([\"No relevent experience\",\"Has relevent experience\"],[0,1])\n",
    "print(df[\"relevent_experience\"].unique())"
   ]
  },
  {
   "cell_type": "code",
   "execution_count": 8,
   "id": "similar-retirement",
   "metadata": {},
   "outputs": [
    {
     "name": "stdout",
     "output_type": "stream",
     "text": [
      "[ 0.  1. nan  2.]\n"
     ]
    }
   ],
   "source": [
    "# 6. Replace current enrollment with numbers.\n",
    "# 0 - no_enrollment\n",
    "# 1 - Full time course\n",
    "# 2 - Part time course\n",
    "df[\"enrolled_university\"] = df[\"enrolled_university\"].replace([\"no_enrollment\",\"Full time course\",\"Part time course\"],[0,1,2])\n",
    "print(df[\"enrolled_university\"].unique())"
   ]
  },
  {
   "cell_type": "code",
   "execution_count": 9,
   "id": "purple-session",
   "metadata": {},
   "outputs": [
    {
     "name": "stdout",
     "output_type": "stream",
     "text": [
      "[ 3.  4.  2. nan  5.  1.]\n"
     ]
    }
   ],
   "source": [
    "# 7. Replace education level with numbers.\n",
    "# 1 - Primary School\n",
    "# 2 - High School\n",
    "# 3 - Graduate (Bachelor)\n",
    "# 4 - Masters\n",
    "# 5 - Phd\n",
    "df[\"education_level\"] = df[\"education_level\"].replace([\"Primary School\",\"High School\",\"Graduate\",\"Masters\",\"Phd\"],[1,2,3,4,5])\n",
    "print(df[\"education_level\"].unique())"
   ]
  },
  {
   "cell_type": "code",
   "execution_count": 10,
   "id": "statutory-purple",
   "metadata": {},
   "outputs": [
    {
     "name": "stdout",
     "output_type": "stream",
     "text": [
      "[5 2 0 1 3 4 6]\n"
     ]
    }
   ],
   "source": [
    "# 8. Replace major disciplines with numbers.\n",
    "# 0 - Not Applied\n",
    "# 1 - Arts\n",
    "# 2 - Business Degree\n",
    "# 3 - Humanities\n",
    "# 4 - No Major\n",
    "# 5 - STEM\n",
    "# 6 - Other\n",
    "df[\"major_discipline\"] = df[\"major_discipline\"].replace([\"Not Applied\", \"Arts\", \"Business Degree\", \"Humanities\", \"No Major\", \"STEM\", \"Other\"],[0,1,2,3,4,5,6])\n",
    "print(df[\"major_discipline\"].unique())"
   ]
  },
  {
   "cell_type": "code",
   "execution_count": 11,
   "id": "consecutive-coupon",
   "metadata": {},
   "outputs": [
    {
     "name": "stdout",
     "output_type": "stream",
     "text": [
      "[nan  3.  1.  8.  7.  6.  2.  4.  5.]\n"
     ]
    }
   ],
   "source": [
    "# 9. Replace company sizes with numbers.\n",
    "# 1 - <10\n",
    "# 2 - 10-49\n",
    "# 3 - 50-99\n",
    "# 4 - 100-500\n",
    "# 5 - 500-999\n",
    "# 6 - 1000-4999\n",
    "# 7 - 5000-9999\n",
    "# 8 - 10000+\n",
    "df[\"company_size\"] = df[\"company_size\"].replace([\"<10\",\"10-49\",\"50-99\",\"100-500\",\"500-999\",\"1000-4999\",\"5000-9999\",\"10000+\"],[1,2,3,4,5,6,7,8])\n",
    "print(df[\"company_size\"].unique())"
   ]
  },
  {
   "cell_type": "code",
   "execution_count": 12,
   "id": "professional-movement",
   "metadata": {},
   "outputs": [
    {
     "name": "stdout",
     "output_type": "stream",
     "text": [
      "[nan  2.  3.  4.  6.  1.  5.]\n"
     ]
    }
   ],
   "source": [
    "# 10. Replace company types with numbers.\n",
    "# 1 - Public Sector\n",
    "# 2 - Pvt Ltd (Private Limited)\n",
    "# 3 - Funded Startup\n",
    "# 4 - Early Stage Startup\n",
    "# 5 - NGO\n",
    "# 6 - Other\n",
    "df[\"company_type\"] = df[\"company_type\"].replace([\"Public Sector\",\"Pvt Ltd\",\"Funded Startup\",\"Early Stage Startup\",\"NGO\",\"Other\"],[1,2,3,4,5,6])\n",
    "print(df[\"company_type\"].unique())"
   ]
  },
  {
   "cell_type": "code",
   "execution_count": 13,
   "id": "variable-helping",
   "metadata": {},
   "outputs": [
    {
     "name": "stdout",
     "output_type": "stream",
     "text": [
      "       enrollee_id  city  city_development_index  gender  relevent_experience  \\\n",
      "0             8949     5                   0.920     1.0                    1   \n",
      "1            29725    77                   0.776     1.0                    0   \n",
      "2            11561    64                   0.624     NaN                    0   \n",
      "3            33241    14                   0.789     NaN                    0   \n",
      "4              666    50                   0.767     1.0                    1   \n",
      "...            ...   ...                     ...     ...                  ...   \n",
      "19153         7386    55                   0.878     1.0                    0   \n",
      "19154        31398     5                   0.920     1.0                    1   \n",
      "19155        24576     5                   0.920     1.0                    1   \n",
      "19156         5756    94                   0.802     1.0                    1   \n",
      "19157        23834    95                   0.855     NaN                    0   \n",
      "\n",
      "       enrolled_university  education_level  major_discipline experience  \\\n",
      "0                      0.0              3.0                 5         21   \n",
      "1                      0.0              3.0                 5         15   \n",
      "2                      1.0              3.0                 5          5   \n",
      "3                      NaN              3.0                 2          0   \n",
      "4                      0.0              4.0                 5         21   \n",
      "...                    ...              ...               ...        ...   \n",
      "19153                  0.0              3.0                 3         14   \n",
      "19154                  0.0              3.0                 5         14   \n",
      "19155                  0.0              3.0                 5         21   \n",
      "19156                  0.0              2.0                 0          0   \n",
      "19157                  0.0              1.0                 0          2   \n",
      "\n",
      "       company_size  company_type last_new_job  training_hours  target  \n",
      "0               NaN           NaN            1              36     1.0  \n",
      "1               3.0           2.0            5              47     0.0  \n",
      "2               NaN           NaN            0              83     0.0  \n",
      "3               NaN           2.0            0              52     1.0  \n",
      "4               3.0           3.0            4               8     0.0  \n",
      "...             ...           ...          ...             ...     ...  \n",
      "19153           NaN           NaN            1              42     1.0  \n",
      "19154           NaN           NaN            4              52     1.0  \n",
      "19155           3.0           2.0            4              44     0.0  \n",
      "19156           5.0           2.0            2              97     0.0  \n",
      "19157           NaN           NaN            1             127     0.0  \n",
      "\n",
      "[19158 rows x 14 columns]\n"
     ]
    }
   ],
   "source": [
    "# Check the table after classification.\n",
    "print(df)"
   ]
  },
  {
   "cell_type": "markdown",
   "id": "optional-recipe",
   "metadata": {},
   "source": [
    "# Deal with Null Values"
   ]
  },
  {
   "cell_type": "code",
   "execution_count": 26,
   "id": "dirty-plain",
   "metadata": {},
   "outputs": [],
   "source": [
    "# 11. Drop all null values and export data.\n",
    "df_drop_null = df.copy()\n",
    "df_drop_null = df_drop_null.dropna()\n",
    "df_drop_null = df_drop_null.drop(columns=[\"enrollee_id\"])\n",
    "# print(df_drop_null)\n",
    "# print(df_drop_null.info())"
   ]
  },
  {
   "cell_type": "code",
   "execution_count": 28,
   "id": "instrumental-embassy",
   "metadata": {},
   "outputs": [],
   "source": [
    "# 12. Replace all null values with median.\n",
    "df_replace_median = df.copy()\n",
    "df_replace_median[\"gender\"].fillna(df_replace_median[\"gender\"].median(),inplace=True)\n",
    "df_replace_median[\"enrolled_university\"].fillna(df_replace_median[\"enrolled_university\"].median(),inplace=True)\n",
    "df_replace_median[\"education_level\"].fillna(df_replace_median[\"education_level\"].median(),inplace=True)\n",
    "df_replace_median[\"experience\"].fillna(df_replace_median[\"experience\"].median(),inplace=True)\n",
    "df_replace_median[\"company_size\"].fillna(df_replace_median[\"company_size\"].median(),inplace=True)\n",
    "df_replace_median[\"company_type\"].fillna(df_replace_median[\"company_type\"].median(),inplace=True)\n",
    "df_replace_median[\"last_new_job\"].fillna(df_replace_median[\"last_new_job\"].median(),inplace=True)\n",
    "df_replace_median = df_replace_median.drop(columns=[\"enrollee_id\"])\n",
    "# print(df_replace_median)\n",
    "# print(df_replace_median.info())"
   ]
  },
  {
   "cell_type": "markdown",
   "id": "removed-acquisition",
   "metadata": {},
   "source": [
    "## K-Nearest Neighbors"
   ]
  },
  {
   "cell_type": "code",
   "execution_count": 33,
   "id": "stone-transsexual",
   "metadata": {},
   "outputs": [],
   "source": [
    "# 13. Replace all null values with KNN results.\n",
    "# Code adapted from the source: https://www.kaggle.com/nkitgupta/who-will-leave-a-job#-k-Nearest-Neighbour-Imputation--\n",
    "df_replace_knn = df.copy()\n",
    "df_missing = df_replace_knn.columns[df_replace_knn.isna().any()].tolist()\n",
    "df_missing_columns = df_replace_knn[[\"enrollee_id\"] + df_missing]\n",
    "df_full_columns = df_replace_knn.drop(df_missing, axis=1)\n",
    "knn = KNNImputer(n_neighbors = 4)\n",
    "features = np.round(knn.fit_transform(df_missing_columns))\n",
    "df_missing_columns = pd.DataFrame(features, columns=df_missing_columns.columns)\n",
    "df_replace_knn = pd.merge(df_missing_columns, df_full_columns, on=\"enrollee_id\")\n",
    "df_replace_knn = df_replace_knn.drop(columns=[\"enrollee_id\"])\n",
    "# print(df_replace_knn)\n",
    "# print(df_replace_knn.info())"
   ]
  },
  {
   "cell_type": "markdown",
   "id": "initial-tuning",
   "metadata": {},
   "source": [
    "# Data Export"
   ]
  },
  {
   "cell_type": "code",
   "execution_count": 31,
   "id": "pursuant-procedure",
   "metadata": {},
   "outputs": [],
   "source": [
    "df_drop_null.to_csv(\"data_drop_null.csv\", index=False)\n",
    "df_replace_median.to_csv(\"data_replace_median.csv\", index=False)\n",
    "df_replace_knn.to_csv(\"df_replace_knn.csv\", index=False)"
   ]
  },
  {
   "cell_type": "code",
   "execution_count": null,
   "id": "heavy-article",
   "metadata": {},
   "outputs": [],
   "source": []
  }
 ],
 "metadata": {
  "kernelspec": {
   "display_name": "Python 3",
   "language": "python",
   "name": "python3"
  },
  "language_info": {
   "codemirror_mode": {
    "name": "ipython",
    "version": 3
   },
   "file_extension": ".py",
   "mimetype": "text/x-python",
   "name": "python",
   "nbconvert_exporter": "python",
   "pygments_lexer": "ipython3",
   "version": "3.7.1"
  }
 },
 "nbformat": 4,
 "nbformat_minor": 5
}

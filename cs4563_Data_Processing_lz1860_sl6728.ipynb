{
 "cells": [
  {
   "cell_type": "markdown",
   "id": "affecting-effects",
   "metadata": {},
   "source": [
    "# Final Project Data Processing - Intro to Machine Learning\n",
    "CS-UY 4563 <br>\n",
    "Spring 2021 <br>\n",
    "Lujie Zhao, Sicong Liu <br>\n",
    "April 28, 2021 <br>"
   ]
  },
  {
   "cell_type": "markdown",
   "id": "starting-branch",
   "metadata": {},
   "source": [
    "This project is to predict whether the job candidate will be willing to work for the\n",
    "company after training, or they plan to go to another company. The Github Repo can be found here [https://github.com/LujieZ/cs4563-machine-learning]"
   ]
  },
  {
   "cell_type": "code",
   "execution_count": 1,
   "id": "explicit-index",
   "metadata": {},
   "outputs": [],
   "source": [
    "import numpy\n",
    "import pandas as pd\n",
    "from sklearn import linear_model\n",
    "import matplotlib.pyplot as plt\n",
    "%matplotlib inline "
   ]
  },
  {
   "cell_type": "markdown",
   "id": "round-hartford",
   "metadata": {},
   "source": [
    "# Import Dataset\n",
    "\n",
    "The dataset we are using is from kaggle website: [https://www.kaggle.com/arashnic/hr-analytics-job-change-of-data-scientists], which includes 13 inputs (12 being valid) and one target (1 for accept the offer and 0 for reject the offer). We will use aug_train.csv for training and aug_test.csv for testing. \n"
   ]
  },
  {
   "cell_type": "code",
   "execution_count": 6,
   "id": "growing-macedonia",
   "metadata": {},
   "outputs": [
    {
     "name": "stdout",
     "output_type": "stream",
     "text": [
      "(19158, 14)\n",
      "['enrollee_id' 'city' 'city_development_index' 'gender'\n",
      " 'relevent_experience' 'enrolled_university' 'education_level'\n",
      " 'major_discipline' 'experience' 'company_size' 'company_type'\n",
      " 'last_new_job' 'training_hours' 'target']\n"
     ]
    }
   ],
   "source": [
    "# 1. Read the file into a pandas data frame and print the headers.\n",
    "df = pd.read_csv(\"aug_train.csv\")\n",
    "print(df.shape)\n",
    "df_header = df.columns.values\n",
    "print(df_header)"
   ]
  },
  {
   "cell_type": "code",
   "execution_count": 7,
   "id": "actual-wallace",
   "metadata": {},
   "outputs": [
    {
     "name": "stdout",
     "output_type": "stream",
     "text": [
      "(9615, 14)\n"
     ]
    }
   ],
   "source": [
    "# 2. Drop all rows that contains NaN values.\n",
    "# We want to drop the rows that contain NaN values, except the `major_discipline`. Because we\n",
    "# have some enrolleees with high school or lower degrees, they are self-educated and majors\n",
    "# appearly don't apply to them.\n",
    "df[\"major_discipline\"] = df[\"major_discipline\"].fillna(\"Not Applied\")\n",
    "# There's also typos in the `company_size` columns, and we need to replace `10/49` with\n",
    "# `10-49`.\n",
    "df[\"company_size\"] = df[\"company_size\"].replace(\"10/49\",\"10-49\")\n",
    "# print(df[\"major_discipline\"].unique())\n",
    "# print(df[\"company_size\"].unique())\n",
    "\n",
    "df = df.dropna()\n",
    "print(df.shape)"
   ]
  },
  {
   "cell_type": "code",
   "execution_count": 8,
   "id": "communist-frame",
   "metadata": {
    "scrolled": true
   },
   "outputs": [
    {
     "name": "stdout",
     "output_type": "stream",
     "text": [
      "['Male' 'Female' 'Other']\n",
      "['No relevent experience' 'Has relevent experience']\n",
      "['no_enrollment' 'Part time course' 'Full time course']\n",
      "['Graduate' 'Masters' 'High School' 'Phd' 'Primary School']\n",
      "['STEM' 'Not Applied' 'Humanities' 'Business Degree' 'Other' 'No Major'\n",
      " 'Arts']\n",
      "['50-99' '<10' '5000-9999' '1000-4999' '10-49' '100-500' '10000+'\n",
      " '500-999']\n",
      "['Pvt Ltd' 'Funded Startup' 'Early Stage Startup' 'Other' 'Public Sector'\n",
      " 'NGO']\n"
     ]
    }
   ],
   "source": [
    "# 3. Print unique values for each column.\n",
    "# Since `entrolled_id` and `city` are identifiers for enrollees, they are not considered\n",
    "# as our input. And for rest of the columns, `gender`, `relevent_experience`,\n",
    "# `enrolled_university`, `education_level`, `major_discipline`, `company_size`,\n",
    "# `company_type` are not numerical values. Thus they need to be classied.\n",
    "print(df[\"gender\"].unique())\n",
    "print(df[\"relevent_experience\"].unique())\n",
    "print(df[\"enrolled_university\"].unique())\n",
    "print(df[\"education_level\"].unique())\n",
    "print(df[\"major_discipline\"].unique())\n",
    "print(df[\"company_size\"].unique())\n",
    "print(df[\"company_type\"].unique())"
   ]
  },
  {
   "cell_type": "markdown",
   "id": "hindu-season",
   "metadata": {},
   "source": [
    "# Process Data\n",
    "Replace the text value with preset parameters. "
   ]
  },
  {
   "cell_type": "code",
   "execution_count": 9,
   "id": "bored-europe",
   "metadata": {},
   "outputs": [
    {
     "name": "stdout",
     "output_type": "stream",
     "text": [
      "[1 0 2]\n"
     ]
    }
   ],
   "source": [
    "# 4. Replace different gender text with numbers.\n",
    "# 0 - Female\n",
    "# 1 - Male\n",
    "# 2 - Other\n",
    "df[\"gender\"] = df[\"gender\"].replace([\"Female\",\"Male\",\"Other\"], [0,1,2])\n",
    "print(df[\"gender\"].unique())"
   ]
  },
  {
   "cell_type": "code",
   "execution_count": 10,
   "id": "signal-excellence",
   "metadata": {},
   "outputs": [
    {
     "name": "stdout",
     "output_type": "stream",
     "text": [
      "[0 1]\n"
     ]
    }
   ],
   "source": [
    "# 5. Replace relevent experience text with numbers.\n",
    "# 0 - No relevent experience\n",
    "# 1 - Has relevent experience\n",
    "df[\"relevent_experience\"] = df[\"relevent_experience\"].replace([\"No relevent experience\",\"Has relevent experience\"],[0,1])\n",
    "print(df[\"relevent_experience\"].unique())"
   ]
  },
  {
   "cell_type": "code",
   "execution_count": 11,
   "id": "smart-degree",
   "metadata": {},
   "outputs": [
    {
     "name": "stdout",
     "output_type": "stream",
     "text": [
      "[0 2 1]\n"
     ]
    }
   ],
   "source": [
    "# 6. Replace current enrollment with numbers.\n",
    "# 0 - no_enrollment\n",
    "# 1 - Full time course\n",
    "# 2 - Part time course\n",
    "df[\"enrolled_university\"] = df[\"enrolled_university\"].replace([\"no_enrollment\",\"Full time course\",\"Part time course\"],[0,1,2])\n",
    "print(df[\"enrolled_university\"].unique())"
   ]
  },
  {
   "cell_type": "code",
   "execution_count": 12,
   "id": "czech-monster",
   "metadata": {},
   "outputs": [
    {
     "name": "stdout",
     "output_type": "stream",
     "text": [
      "[3 4 2 5 1]\n"
     ]
    }
   ],
   "source": [
    "# 7. Replace education level with numbers.\n",
    "# 1 - Primary School\n",
    "# 2 - High School\n",
    "# 3 - Graduate (Bachelor)\n",
    "# 4 - Masters\n",
    "# 5 - Phd\n",
    "df[\"education_level\"] = df[\"education_level\"].replace([\"Primary School\",\"High School\",\"Graduate\",\"Masters\",\"Phd\"],[1,2,3,4,5])\n",
    "print(df[\"education_level\"].unique())"
   ]
  },
  {
   "cell_type": "code",
   "execution_count": 13,
   "id": "fourth-champion",
   "metadata": {},
   "outputs": [
    {
     "name": "stdout",
     "output_type": "stream",
     "text": [
      "[5 0 3 2 6 4 1]\n"
     ]
    }
   ],
   "source": [
    "# 8. Replace major disciplines with numbers.\n",
    "# 0 - Not Applied\n",
    "# 1 - Arts\n",
    "# 2 - Business Degree\n",
    "# 3 - Humanities\n",
    "# 4 - No Major\n",
    "# 5 - STEM\n",
    "# 6 - Other\n",
    "df[\"major_discipline\"] = df[\"major_discipline\"].replace([\"Not Applied\", \"Arts\", \"Business Degree\", \"Humanities\", \"No Major\", \"STEM\", \"Other\"],[0,1,2,3,4,5,6])\n",
    "print(df[\"major_discipline\"].unique())"
   ]
  },
  {
   "cell_type": "code",
   "execution_count": 14,
   "id": "designing-century",
   "metadata": {},
   "outputs": [
    {
     "name": "stdout",
     "output_type": "stream",
     "text": [
      "[3 1 7 6 2 4 8 5]\n"
     ]
    }
   ],
   "source": [
    "# 9. Replace company sizes with numbers.\n",
    "# 1 - <10\n",
    "# 2 - 10-49\n",
    "# 3 - 50-99\n",
    "# 4 - 100-500\n",
    "# 5 - 500-999\n",
    "# 6 - 1000-4999\n",
    "# 7 - 5000-9999\n",
    "# 8 - 10000+\n",
    "df[\"company_size\"] = df[\"company_size\"].replace([\"<10\",\"10-49\",\"50-99\",\"100-500\",\"500-999\",\"1000-4999\",\"5000-9999\",\"10000+\"],[1,2,3,4,5,6,7,8])\n",
    "print(df[\"company_size\"].unique())"
   ]
  },
  {
   "cell_type": "code",
   "execution_count": 15,
   "id": "elect-airline",
   "metadata": {},
   "outputs": [
    {
     "name": "stdout",
     "output_type": "stream",
     "text": [
      "[2 3 4 6 1 5]\n"
     ]
    }
   ],
   "source": [
    "# 10. Replace company types with numbers.\n",
    "# 1 - Public Sector\n",
    "# 2 - Pvt Ltd (Private Limited)\n",
    "# 3 - Funded Startup\n",
    "# 4 - Early Stage Startup\n",
    "# 5 - NGO\n",
    "# 6 - Other\n",
    "df[\"company_type\"] = df[\"company_type\"].replace([\"Public Sector\",\"Pvt Ltd\",\"Funded Startup\",\"Early Stage Startup\",\"NGO\",\"Other\"],[1,2,3,4,5,6])\n",
    "print(df[\"company_type\"].unique())"
   ]
  },
  {
   "cell_type": "code",
   "execution_count": 16,
   "id": "frank-matrix",
   "metadata": {},
   "outputs": [
    {
     "name": "stdout",
     "output_type": "stream",
     "text": [
      "       enrollee_id      city  city_development_index  gender  \\\n",
      "1            29725   city_40                   0.776       1   \n",
      "4              666  city_162                   0.767       1   \n",
      "6            28806  city_160                   0.920       1   \n",
      "7              402   city_46                   0.762       1   \n",
      "8            27107  city_103                   0.920       1   \n",
      "...            ...       ...                     ...     ...   \n",
      "19149          251  city_103                   0.920       1   \n",
      "19150        32313  city_160                   0.920       0   \n",
      "19152        29754  city_103                   0.920       0   \n",
      "19155        24576  city_103                   0.920       1   \n",
      "19156         5756   city_65                   0.802       1   \n",
      "\n",
      "       relevent_experience  enrolled_university  education_level  \\\n",
      "1                        0                    0                3   \n",
      "4                        1                    0                4   \n",
      "6                        1                    0                2   \n",
      "7                        1                    0                3   \n",
      "8                        1                    0                3   \n",
      "...                    ...                  ...              ...   \n",
      "19149                    1                    0                4   \n",
      "19150                    1                    0                3   \n",
      "19152                    1                    0                3   \n",
      "19155                    1                    0                3   \n",
      "19156                    1                    0                2   \n",
      "\n",
      "       major_discipline experience  company_size  company_type last_new_job  \\\n",
      "1                     5         15             3             2           >4   \n",
      "4                     5        >20             3             3            4   \n",
      "6                     0          5             3             3            1   \n",
      "7                     5         13             1             2           >4   \n",
      "8                     5          7             3             2            1   \n",
      "...                 ...        ...           ...           ...          ...   \n",
      "19149                 5          9             3             2            1   \n",
      "19150                 5         10             4             1            3   \n",
      "19152                 3          7             2             3            1   \n",
      "19155                 5        >20             3             2            4   \n",
      "19156                 0         <1             5             2            2   \n",
      "\n",
      "       training_hours  target  \n",
      "1                  47     0.0  \n",
      "4                   8     0.0  \n",
      "6                  24     0.0  \n",
      "7                  18     1.0  \n",
      "8                  46     1.0  \n",
      "...               ...     ...  \n",
      "19149              36     1.0  \n",
      "19150              23     0.0  \n",
      "19152              25     0.0  \n",
      "19155              44     0.0  \n",
      "19156              97     0.0  \n",
      "\n",
      "[9615 rows x 14 columns]\n"
     ]
    }
   ],
   "source": [
    "# Check the table after classification.\n",
    "print(df)"
   ]
  },
  {
   "cell_type": "markdown",
   "id": "binary-stockholm",
   "metadata": {},
   "source": [
    "# Deal with Approximation\n",
    "For columns `experience` and `last_new_job`, we can see there are approximated data for experience more than 20 years and last new jobs more then 4 years. As they are values to be determine, we will approximate them with 21 years and 5 years."
   ]
  },
  {
   "cell_type": "code",
   "execution_count": 17,
   "id": "mineral-struggle",
   "metadata": {},
   "outputs": [
    {
     "name": "stdout",
     "output_type": "stream",
     "text": [
      "       enrollee_id      city  city_development_index  gender  \\\n",
      "1            29725   city_40                   0.776       1   \n",
      "4              666  city_162                   0.767       1   \n",
      "6            28806  city_160                   0.920       1   \n",
      "7              402   city_46                   0.762       1   \n",
      "8            27107  city_103                   0.920       1   \n",
      "...            ...       ...                     ...     ...   \n",
      "19149          251  city_103                   0.920       1   \n",
      "19150        32313  city_160                   0.920       0   \n",
      "19152        29754  city_103                   0.920       0   \n",
      "19155        24576  city_103                   0.920       1   \n",
      "19156         5756   city_65                   0.802       1   \n",
      "\n",
      "       relevent_experience  enrolled_university  education_level  \\\n",
      "1                        0                    0                3   \n",
      "4                        1                    0                4   \n",
      "6                        1                    0                2   \n",
      "7                        1                    0                3   \n",
      "8                        1                    0                3   \n",
      "...                    ...                  ...              ...   \n",
      "19149                    1                    0                4   \n",
      "19150                    1                    0                3   \n",
      "19152                    1                    0                3   \n",
      "19155                    1                    0                3   \n",
      "19156                    1                    0                2   \n",
      "\n",
      "       major_discipline experience  company_size  company_type last_new_job  \\\n",
      "1                     5         15             3             2            5   \n",
      "4                     5         21             3             3            4   \n",
      "6                     0          5             3             3            1   \n",
      "7                     5         13             1             2            5   \n",
      "8                     5          7             3             2            1   \n",
      "...                 ...        ...           ...           ...          ...   \n",
      "19149                 5          9             3             2            1   \n",
      "19150                 5         10             4             1            3   \n",
      "19152                 3          7             2             3            1   \n",
      "19155                 5         21             3             2            4   \n",
      "19156                 0         <1             5             2            2   \n",
      "\n",
      "       training_hours  target  \n",
      "1                  47     0.0  \n",
      "4                   8     0.0  \n",
      "6                  24     0.0  \n",
      "7                  18     1.0  \n",
      "8                  46     1.0  \n",
      "...               ...     ...  \n",
      "19149              36     1.0  \n",
      "19150              23     0.0  \n",
      "19152              25     0.0  \n",
      "19155              44     0.0  \n",
      "19156              97     0.0  \n",
      "\n",
      "[9615 rows x 14 columns]\n"
     ]
    }
   ],
   "source": [
    "df[\"experience\"] = df[\"experience\"].replace(\">20\",\"21\")\n",
    "df[\"last_new_job\"] = df[\"last_new_job\"].replace(\">4\",\"5\")\n",
    "print(df)"
   ]
  },
  {
   "cell_type": "code",
   "execution_count": null,
   "id": "racial-graduate",
   "metadata": {},
   "outputs": [],
   "source": []
  }
 ],
 "metadata": {
  "kernelspec": {
   "display_name": "Python 3",
   "language": "python",
   "name": "python3"
  },
  "language_info": {
   "codemirror_mode": {
    "name": "ipython",
    "version": 3
   },
   "file_extension": ".py",
   "mimetype": "text/x-python",
   "name": "python",
   "nbconvert_exporter": "python",
   "pygments_lexer": "ipython3",
   "version": "3.7.1"
  }
 },
 "nbformat": 4,
 "nbformat_minor": 5
}

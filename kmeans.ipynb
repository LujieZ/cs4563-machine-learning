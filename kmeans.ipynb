{
 "metadata": {
  "language_info": {
   "codemirror_mode": {
    "name": "ipython",
    "version": 3
   },
   "file_extension": ".py",
   "mimetype": "text/x-python",
   "name": "python",
   "nbconvert_exporter": "python",
   "pygments_lexer": "ipython3",
   "version": "3.8.7"
  },
  "orig_nbformat": 2,
  "kernelspec": {
   "name": "python387jvsc74a57bd07cbd0fcb4f5d8501aa346d5ba8459a571cee1797f7e374cfd376c3116037cd30",
   "display_name": "Python 3.8.7 64-bit"
  }
 },
 "nbformat": 4,
 "nbformat_minor": 2,
 "cells": [
  {
   "cell_type": "code",
   "execution_count": 1,
   "metadata": {},
   "outputs": [],
   "source": [
    "# Importing the libraries to be used:\n",
    "import numpy as np\n",
    "import pandas as pd\n",
    "from sklearn.cluster import KMeans\n",
    "from sklearn import preprocessing\n",
    "import matplotlib.pyplot as plt\n",
    "%matplotlib inline "
   ]
  },
  {
   "cell_type": "code",
   "execution_count": 2,
   "metadata": {},
   "outputs": [],
   "source": [
    "df = pd.read_csv('data.csv')\n",
    "df1 = df.to_numpy()\n",
    "\n",
    "X = df1[:,:-1]\n",
    "scaler = preprocessing.StandardScaler().fit(X)\n",
    "X = scaler.transform(X)\n",
    "Y = df1[:,-1:].reshape(X.shape[0],)"
   ]
  },
  {
   "cell_type": "code",
   "execution_count": 3,
   "metadata": {},
   "outputs": [],
   "source": [
    "train_size = int(X.shape[0]/5*4)\n",
    "X_train = X[:train_size]\n",
    "Y_train = Y[:train_size]\n",
    "X_test = X[train_size:]\n",
    "Y_test = Y[train_size:]"
   ]
  },
  {
   "cell_type": "code",
   "execution_count": 4,
   "metadata": {},
   "outputs": [],
   "source": [
    "def k_means():\n",
    "    kmeans = KMeans(n_clusters=2).fit(X_train)\n",
    "\n",
    "    Yhat_svc_kmeans_train = kmeans.predict(X_train)\n",
    "    acc_train = 1-np.count_nonzero(Yhat_svc_kmeans_train-Y_train)/X_train.shape[0]\n",
    "    \n",
    "    acc_train_kmeans.append(acc_train)\n",
    "    \n",
    "    Yhat_svc_kmeans_test = kmeans.predict(X_test)\n",
    "    acc_test = 1-np.count_nonzero(Yhat_svc_kmeans_test-Y_test)/X_test.shape[0]\n",
    "\n",
    "    acc_test_kmeans.append(acc_test)"
   ]
  },
  {
   "cell_type": "code",
   "execution_count": 23,
   "metadata": {},
   "outputs": [],
   "source": [
    "acc_train_kmeans = []\n",
    "acc_test_kmeans = []\n",
    "for i in range(100):\n",
    "    k_means()"
   ]
  },
  {
   "cell_type": "code",
   "execution_count": 24,
   "metadata": {},
   "outputs": [
    {
     "output_type": "execute_result",
     "data": {
      "text/plain": [
       "0.5793031721268851"
      ]
     },
     "metadata": {},
     "execution_count": 24
    }
   ],
   "source": [
    "max(acc_test_kmeans)"
   ]
  },
  {
   "cell_type": "code",
   "execution_count": null,
   "metadata": {},
   "outputs": [],
   "source": []
  }
 ]
}